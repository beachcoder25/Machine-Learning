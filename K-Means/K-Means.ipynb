{
 "cells": [
  {
   "cell_type": "code",
   "execution_count": null,
   "metadata": {},
   "outputs": [],
   "source": [
    "############################################\n",
    "### Exclusive clustering\n",
    "############################################\n",
    "\n",
    "    # Hard Clustering\n",
    "    # DataPoint/Item belongs exlcusively to one cluster\n",
    "    # K-Means Clustering is an exclusive clustering :)\n",
    "        # Took screen of example, attach here\n",
    "        \n",
    "\n",
    "############################################\n",
    "### What is K-Means?\n",
    "############################################\n",
    "\n",
    "     # K-Means goal is to group similar elements (data points) into a cluster\n",
    "        # The K in K-Means refers to the number of clusters\n",
    "    \n",
    "     # Laundry metaphor\n",
    "        # You have a pile of dirty clothes ready to wash but they all need to be washed a particular way\n",
    "        # You decide to start with 3 different labels for wash-types\n",
    "        \n",
    "    # Your next step is to determine the \"centroid\" for each of the 3 clusters\n",
    "\n",
    "    \n",
    "############################################\n",
    "### DOCUMENT CLASSIFICATION :))))))))))))))\n",
    "############################################\n",
    "\n",
    "    # Data must be in small dimensions\n",
    "    # We can use it to group similar things from our randomly distributed dataset\n",
    "    # Process: \n",
    "        # Create cluster of documents in multiple categories based on:\n",
    "            # tags\n",
    "            # topics\n",
    "            # content of the document\n",
    "\n",
    "\n",
    "############################################\n",
    "### K-Means Example (11:10)\n",
    "############################################\n",
    "\n",
    "# You have data on a line that can be put into 3 clusters, K = 3g\n",
    "### STEPS\n",
    "    # 1) Select the number of clusters to be identified. K = 3\n",
    "    # 2) Randomly select 3 distinct data points\n",
    "    # 3) Measure the distance between the 1st point in the first cluster to the 1st point in the other 2 clusters\n",
    "    # 4) Calculate the mean of the first cluster (Distance between first point and last point divided by 2\n",
    "    # 5) Now measure the distance from the mean in the first cluster to the first point in the other 2 clusters\n",
    "        # At the conclusion of this step the mean gets shifted \n",
    "    # 6) Now you can start addingpoints that are not yet assigned to a cluster, \n",
    "        # you do so by checking the distance of the point and the means of the 3 clusters\n",
    "            # The point is assigned to the cluster that it is closest to\n",
    "    \n",
    "    ############################################\n",
    "    ### This DID NOT produce good results, thus...\n",
    "    ############################################\n",
    "        \n",
    "    # 7) You can check the quality of your clustering by adding together the variance of each cluster\n",
    "    \n",
    "    ############################################\n",
    "    ### Repeat same priocess (Iteration 2)\n",
    "    ############################################\n",
    "\n",
    "    # This time new random points are chosen again,we must ensure they are different from the pints in the previous step\n",
    "        # Repeat whole process\n",
    "        \n",
    "    ############################################\n",
    "    ### Repeat same priocess (Iteration 3)\n",
    "    ############################################\n",
    "\n",
    "    # Same as iteration 2\n",
    "    # BUT NOW the individual variation values are almost equal, whereas before the clusters were not equally favored\n",
    "        # But we go for more and more iterations to keep fine-tuning it\n",
    "            # ?????????????????????????? (below)\n",
    "                # You can set the number of iterations you want it to do (Question for Mustafa)\n",
    "            # The idea is that the changes in the variance should stop after a few iterations\n",
    "                # Typically you will stop calculating when you get the same result consecutively\n",
    "            \n",
    "    ############################################\n",
    "    ### Euclidian distance (Mustafa)\n",
    "    ############################################\n",
    "    \n",
    "    # If we have our points displayed on a 2-d graph, we randomly select 3 points \n",
    "    # Same as pythageron theorom where we can calculate the hypotenuse based on the sum of the other 2 side's length\n",
    "        # Use this to assign your point to the nearest cluster\n",
    "    # Like above we must iterate multiple times to get the final result\n",
    "    \n",
    "    ############################################\n",
    "    ### What should you set K to?\n",
    "    ############################################\n",
    "    \n",
    "    # Trial and Error\n",
    "        # Compare the difference in varianceto improve\n",
    "    # AS the number of clusters increases the total variation decreases\n",
    "        # PLOT the change in variance!\n",
    "        # ELBOW POINT!!! (Drop a pic, Mustafa)\n",
    "            # This is the point right before the graph begins to flatten\n",
    "            # This point is used to determine the number of cluster!!!\n",
    "\n"
   ]
  },
  {
   "cell_type": "code",
   "execution_count": 1,
   "metadata": {},
   "outputs": [],
   "source": [
    "### K-Means Algorithm :))))))))))))))))))))))))\n",
    "\n",
    "# Pseudo-code\n",
    "\n",
    "    # randomly choose k examples as initial centroids\n",
    "    # while true:\n",
    "    #     create k clusters by assigning each example to closest centroid\n",
    "    #     compute k new centroids by averaging examples in each cluster\n",
    "\n",
    "    #     if centroids don't change:\n",
    "    #         break"
   ]
  },
  {
   "cell_type": "code",
   "execution_count": 8,
   "metadata": {},
   "outputs": [
    {
     "data": {
      "image/png": "[encoded data removed]",
      "text/plain": [
       "<Figure size 360x360 with 1 Axes>"
      ]
     },
     "metadata": {
      "needs_background": "light"
     },
     "output_type": "display_data"
    }
   ],
   "source": [
    "import pandas as pd\n",
    "import numpy as np\n",
    "import matplotlib.pyplot as plt\n",
    "%matplotlib inline\n",
    "\n",
    "# Numbers are between 0 and 80\n",
    "df = pd.DataFrame({\n",
    "    'x': [12, 20, 28, 18, 29, 33, 24, 45, 45, 52, 51, 52, 55, 53, 55, 61, 64, 69, 72],\n",
    "    'y': [39, 36, 30, 52, 54, 46, 55, 59, 63, 70, 66, 63, 58, 23, 14, 8, 19, 7, 24]\n",
    "})\n",
    "\n",
    "np.random.seed(200)\n",
    "k = 3\n",
    "\n",
    "# centroids[i] = [x,y]\n",
    "centroids = {\n",
    "    i+1: [np.random.randint(0, 80), np.random.randint(0, 80)]\n",
    "    for i in range(k)\n",
    "}\n",
    "\n",
    "fig = plt.figure(figsize=(5,5))\n",
    "plt.scatter(df['x'], df['y'], color='k') # Create scatter plot with x-axis = df['x'], y-axis = df['y']\n",
    "    # For color = k, we set k so we get 3 colors since k = 3 :)\n",
    "colmap= {1: 'r', 2: 'g', 3: 'b'} # Set 3 colors\n",
    "for i in centroids.keys():\n",
    "    plt.scatter(*centroids[i], color=colmap[i])\n",
    "plt.xlim(0, 80)\n",
    "plt.ylim(0, 80)\n",
    "plt.show()"
   ]
  },
  {
   "cell_type": "code",
   "execution_count": 11,
   "metadata": {},
   "outputs": [
    {
     "name": "stdout",
     "output_type": "stream",
     "text": [
      "    x   y  distance_from_1  distance_from_2  distance_from_3  closest color\n",
      "0  12  39        26.925824        56.080300        56.727418        1     r\n",
      "1  20  36        20.880613        48.373546        53.150729        1     r\n",
      "2  28  30        14.142136        41.761226        53.338541        1     r\n",
      "3  18  52        36.878178        50.990195        44.102154        1     r\n",
      "4  29  54        38.118237        40.804412        34.058773        3     b\n"
     ]
    },
    {
     "data": {
      "image/png": "[encoded data removed]",
      "text/plain": [
       "<Figure size 360x360 with 1 Axes>"
      ]
     },
     "metadata": {
      "needs_background": "light"
     },
     "output_type": "display_data"
    }
   ],
   "source": [
    "### Assignment Stage\n",
    "\n",
    "def assignment(df, centroids):\n",
    "    for i in centroids.keys():\n",
    "        # sqrt((x1 - x2)^2 - (y1 - y2)^2)\n",
    "        # Sum of squared error?\n",
    "        df['distance_from_{}'.format(i)] = (\n",
    "            np.sqrt(\n",
    "                (df['x'] - centroids[i][0]) ** 2 \n",
    "                 + (df['y'] - centroids[i][1]) **2\n",
    "                    \n",
    "                )\n",
    "            )\n",
    "    centroid_distance_cols = ['distance_from_{}'.format(i) for i in centroids.keys()]\n",
    "    df['closest'] = df.loc[:, centroid_distance_cols].idxmin(axis=1)\n",
    "    df['closest'] = df['closest'].map(lambda x : int(x.lstrip('distance_from_')))\n",
    "    df['color'] = df['closest'].map(lambda x : colmap[x])\n",
    "    return df\n",
    "\n",
    "df = assignment(df, centroids)\n",
    "print(df.head())\n",
    "\n",
    "fig = plt.figure(figsize=(5,5))\n",
    "plt.scatter(df['x'], df['y'], color=df['color'], alpha=0.5, edgecolor='k')\n",
    "for i in centroids.keys():\n",
    "    plt.scatter(*centroids[i], color=colmap[i])\n",
    "plt.xlim(0, 80)\n",
    "plt.ylim(0, 80)\n",
    "\n",
    "# We always assign a point to its CLOSEST CLUSTER\n",
    "plt.show()"
   ]
  },
  {
   "cell_type": "code",
   "execution_count": 12,
   "metadata": {},
   "outputs": [
    {
     "data": {
      "text/plain": [
       "KMeans(algorithm='auto', copy_x=True, init='k-means++', max_iter=300,\n",
       "       n_clusters=3, n_init=10, n_jobs=None, precompute_distances='auto',\n",
       "       random_state=None, tol=0.0001, verbose=0)"
      ]
     },
     "execution_count": 12,
     "metadata": {},
     "output_type": "execute_result"
    }
   ],
   "source": [
    "# USING SKLEARN!!!\n",
    "\n",
    "# Numbers are between 0 and 80\n",
    "df = pd.DataFrame({\n",
    "    'x': [12, 20, 28, 18, 29, 33, 24, 45, 45, 52, 51, 52, 55, 53, 55, 61, 64, 69, 72],\n",
    "    'y': [39, 36, 30, 52, 54, 46, 55, 59, 63, 70, 66, 63, 58, 23, 14, 8, 19, 7, 24]\n",
    "})\n",
    "\n",
    "from sklearn.cluster import KMeans\n",
    "\n",
    "kmeans = KMeans(n_clusters=3)\n",
    "kmeans.fit(df)"
   ]
  },
  {
   "cell_type": "code",
   "execution_count": 13,
   "metadata": {},
   "outputs": [],
   "source": [
    "labels = kmeans.predict(df)\n",
    "centroids = kmeans.cluster_centers_"
   ]
  },
  {
   "cell_type": "code",
   "execution_count": 15,
   "metadata": {},
   "outputs": [
    {
     "data": {
      "image/png": "[encoded data removed]",
      "text/plain": [
       "<Figure size 360x360 with 1 Axes>"
      ]
     },
     "metadata": {
      "needs_background": "light"
     },
     "output_type": "display_data"
    }
   ],
   "source": [
    "fig = plt.figure(figsize=(5,5))\n",
    "\n",
    "colors = map(lambda x: colmap[x+1], labels)\n",
    "colors1 = list(colors)\n",
    "plt.scatter(df['x'], df['y'], color=colors1, alpha=0.5, edgecolor='k')\n",
    "for idx, centroid in enumerate(centroids):\n",
    "    plt.scatter(*centroid, color=colmap[idx+1])\n",
    "plt.xlim(0, 80)\n",
    "plt.ylim(0, 80)\n",
    "\n",
    "# We always assign a point to its CLOSEST CLUSTER\n",
    "plt.show()"
   ]
  },
  {
   "cell_type": "code",
   "execution_count": null,
   "metadata": {},
   "outputs": [],
   "source": [
    "# K-Means is very sensitive to Euclidian Distance, so be sure to normalize the data or else scaling problems will occur\n",
    "    # If there is symmetry in the data (Wont be thanks to tfidf!) it can cause the labels to be mislabeled\n",
    "    # It is suggested to do the same K means with different initial centroids and take the most common label"
   ]
  },
  {
   "cell_type": "code",
   "execution_count": 22,
   "metadata": {},
   "outputs": [
    {
     "name": "stdout",
     "output_type": "stream",
     "text": [
      "closed\n",
      "close\n",
      "closure\n"
     ]
    }
   ],
   "source": [
    "from nltk.stem import WordNetLemmatizer\n",
    "\n",
    "lemmatizer = WordNetLemmatizer()\n",
    "\n",
    "print(lemmatizer.lemmatize(\"closed\"))\n",
    "print(lemmatizer.lemmatize(\"closes\"))\n",
    "print(lemmatizer.lemmatize(\"closure\"))"
   ]
  },
  {
   "cell_type": "code",
   "execution_count": 20,
   "metadata": {},
   "outputs": [
    {
     "name": "stderr",
     "output_type": "stream",
     "text": [
      "[nltk_data] Downloading package wordnet to /home/jonah/nltk_data...\n",
      "[nltk_data]   Package wordnet is already up-to-date!\n"
     ]
    },
    {
     "data": {
      "text/plain": [
       "True"
      ]
     },
     "execution_count": 20,
     "metadata": {},
     "output_type": "execute_result"
    }
   ],
   "source": [
    "import nltk\n",
    "nltk.download('wordnet')"
   ]
  },
  {
   "cell_type": "code",
   "execution_count": 23,
   "metadata": {},
   "outputs": [
    {
     "name": "stdout",
     "output_type": "stream",
     "text": [
      "closed  :  close\n",
      "closes  :  close\n",
      "closure  :  closur\n",
      "closing  :  close\n"
     ]
    }
   ],
   "source": [
    "from nltk.stem import PorterStemmer \n",
    "from nltk.tokenize import word_tokenize \n",
    "   \n",
    "ps = PorterStemmer() \n",
    "  \n",
    "# choose some words to be stemmed \n",
    "words = [\"closed\", \"closes\", \"closure\", \"closing\"] \n",
    "  \n",
    "for w in words: \n",
    "    print(w, \" : \", ps.stem(w)) "
   ]
  },
  {
   "cell_type": "code",
   "execution_count": null,
   "metadata": {},
   "outputs": [],
   "source": []
  }
 ],
 "metadata": {
  "kernelspec": {
   "display_name": "Python 3",
   "language": "python",
   "name": "python3"
  },
  "language_info": {
   "codemirror_mode": {
    "name": "ipython",
    "version": 3
   },
   "file_extension": ".py",
   "mimetype": "text/x-python",
   "name": "python",
   "nbconvert_exporter": "python",
   "pygments_lexer": "ipython3",
   "version": "3.7.6"
  }
 },
 "nbformat": 4,
 "nbformat_minor": 4
}
